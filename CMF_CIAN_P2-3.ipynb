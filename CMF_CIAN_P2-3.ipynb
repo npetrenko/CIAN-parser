{
 "cells": [
  {
   "cell_type": "code",
   "execution_count": 1,
   "metadata": {
    "collapsed": true
   },
   "outputs": [],
   "source": [
    "import pandas as pd\n",
    "import numpy as np\n",
    "import matplotlib.pyplot as plt\n",
    "import random\n",
    "import re"
   ]
  },
  {
   "cell_type": "markdown",
   "metadata": {},
   "source": [
    "Это понадобится, чтобы посчитать расстояние до ближайшего метро:"
   ]
  },
  {
   "cell_type": "code",
   "execution_count": 2,
   "metadata": {
    "collapsed": true
   },
   "outputs": [],
   "source": [
    "mstat = '''Аэропорт\t55.79981\t37.53412\n",
    "Академическая\t55.68808\t37.57501\n",
    "Алексеевская\t55.80737\t37.63844\n",
    "Александровский сад\t55.75219\t37.60836\n",
    "Алтуфьево\t55.89504\t37.58605\n",
    "Аннино (стр.)\t55.581818\t37.594978\n",
    "Арбатская\t55.75228\t37.60357\n",
    "Авиамоторная\t55.75208\t37.71677\n",
    "Автозаводская\t55.70801\t37.65858\n",
    "Бабушкинская\t55.86814\t37.66292\n",
    "Багратионовская\t55.74326\t37.49753\n",
    "Баррикадная\t55.76027\t37.58111\n",
    "Бауманская\t55.77228\t37.67857\n",
    "Беговая\t55.77378\t37.54412\n",
    "Белорусская\t55.77492\t37.58207\n",
    "Беляево\t55.64371\t37.52762\n",
    "Бибирево\t55.88294\t37.60523\n",
    "Библиотека им. Ленина\t55.75211\t37.60988\n",
    "Битцевский парк\t55.60029\t37.55735\n",
    "Боровицкая\t55.75034\t37.60857\n",
    "Ботанический сад\t55.84649\t37.63914\n",
    "Братеево (стр.)\t55.631363\t37.75174\n",
    "Братиславская\t55.66126\t37.7509\n",
    "Чеховская\t55.76596\t37.6075\n",
    "Черкизовская\t55.802\t37.74438\n",
    "Чертаново\t55.63978\t37.60893\n",
    "Чистые пруды\t55.76426\t37.6389\n",
    "Чкаловская\t55.756218\t37.659375\n",
    "Динамо\t55.78867\t37.55936\n",
    "Бульвар Дмитрия Донского (стр.)\t55.567759\t37.575724\n",
    "Дмитровская\t55.80756\t37.57959\n",
    "Добрынинская\t55.72886\t37.62356\n",
    "Домодедовская\t55.61009\t37.71612\n",
    "Достоевская (стр.)\t55.782438\t37.612747\n",
    "Дубровка\t55.719732\t37.676915\n",
    "Электрозаводская\t55.78177\t37.70471\n",
    "Шоссе энтузиастов\t55.75837\t37.75155\n",
    "Филевский парк\t55.73953\t37.48366\n",
    "Фили\t55.74673\t37.51384\n",
    "Фрунзенская\t55.72718\t37.58036\n",
    "Измайловская\t55.78768\t37.78329\n",
    "Улица Академика Янгеля (стр.)\t55.596141\t37.59981\n",
    "Каховская\t55.65332\t37.59722\n",
    "Калужская\t55.65566\t37.53923\n",
    "Кантемировская\t55.6343\t37.65632\n",
    "Каширская\t55.65412\t37.64738\n",
    "Киевская\t55.74388\t37.56673\n",
    "Китай город\t55.75634\t37.63002\n",
    "Китай город\t55.753903\t37.635405\n",
    "Коломенское\t55.67745\t37.66298\n",
    "Комсомольская\t55.77717\t37.655689\n",
    "Коньково\t55.63253\t37.52005\n",
    "Кожуховская\t55.70533\t37.68508\n",
    "Красногвардейская\t55.614491\t37.744724\n",
    "Краснопресненская\t55.760109\t37.577141\n",
    "Красносельская\t55.780763\t37.666264\n",
    "Красные ворота\t55.76958\t37.6499\n",
    "Крестьянская застава\t55.732877\t37.668998\n",
    "Кропоткинская\t55.74525\t37.60463\n",
    "Крылатское\t55.75879\t37.40633\n",
    "Кунцевская\t55.73045\t37.44646\n",
    "Курская\t55.75848\t37.65985\n",
    "Кутузовская\t55.73947\t37.53433\n",
    "Кузьминки\t55.70531\t37.76775\n",
    "Кузнецкий мост\t55.76118\t37.62386\n",
    "Ленинский проспект\t55.70818\t37.58742\n",
    "Лубянка\t55.75876\t37.62573\n",
    "Люблино\t55.67694\t37.76316\n",
    "Марьина роща (стр.)\t55.793602\t37.615762\n",
    "Марьино\t55.65193\t37.74771\n",
    "Марксистская\t55.7407\t37.65773\n",
    "Маяковская\t55.76909\t37.59635\n",
    "Медведково\t55.88594\t37.6612\n",
    "Менделеевская\t55.78251\t37.59792\n",
    "Минская (стр.)\t55.731548\t37.491016\n",
    "Проспект мира\t55.781196\t37.633529\n",
    "Митино (стр.)\t55.84589\t37.35909\n",
    "Молодежная\t55.74001\t37.41724\n",
    "Нагатинская\t55.68386\t37.62285\n",
    "Нагорная\t55.67283\t37.61019\n",
    "Нахимовский проспект\t55.66376\t37.60767\n",
    "Новые черемушки\t55.66892\t37.55417\n",
    "Новогиреево\t55.75111\t37.81564\n",
    "Новокосино (стр.)\t55.740539\t37.856347\n",
    "Новокузнецкая\t55.74212\t37.62901\n",
    "Новослободская\t55.77921\t37.6009\n",
    "Охотный ряд\t55.75703\t37.61614\n",
    "Октябрьское поле\t55.793615\t37.493496\n",
    "Октябрьская\t55.729\t37.61139\n",
    "Орехово\t55.61214\t37.69584\n",
    "Отрадное\t55.86417\t37.60488\n",
    "Парк культуры\t55.73512\t37.59328\n",
    "Парк Победы (стр.)\t55.736559\t37.512591\n",
    "Партизанская\t55.78962\t37.7479\n",
    "Павелецкая\t55.7313\t37.63612\n",
    "Печатники\t55.69252\t37.7295\n",
    "Перово\t55.75109\t37.78854\n",
    "Первомайская\t55.79342\t37.79979\n",
    "Петровско-Разумовская\t55.83712\t37.57349\n",
    "Пионерская\t55.73583\t37.46731\n",
    "Планерная\t55.85931\t37.43687\n",
    "Площадь Ильича\t55.745663\t37.681123\n",
    "Улица Подбельского\t55.81503\t37.73209\n",
    "Улица Подбельского\t55.81336\t37.73524\n",
    "Полежаевская\t55.77691\t37.51692\n",
    "Полянка\t55.73654\t37.61856\n",
    "Пражская\t55.61354\t37.60499\n",
    "Преображенская площадь\t55.79655\t37.71591\n",
    "Профсоюзная\t55.67822\t37.56381\n",
    "Пролетарская\t55.73171\t37.66726\n",
    "Пронская (стр.)\t55.698344\t37.850869\n",
    "Пушкинская\t55.76565\t37.60417\n",
    "Речной вокзал\t55.85378\t37.47679\n",
    "Площадь Революции\t55.75646\t37.62321\n",
    "Рижская\t55.79222\t37.63557\n",
    "Римская\t55.746487\t37.682631\n",
    "Рязанский проспект\t55.71753\t37.79425\n",
    "Cавеловская\t55.79421\t37.58666\n",
    "Щелковская\t55.80955\t37.79884\n",
    "Щукинская\t55.80796\t37.46629\n",
    "Cеменовская\t55.78279\t37.71844\n",
    "Cерпуховская\t55.72658\t37.62462\n",
    "Cевастопольская\t55.65121\t37.59939\n",
    "Шаболовская\t55.71886\t37.60797\n",
    "Cходненская\t55.84937\t37.43951\n",
    "Cлавянский бульвар (стр.)\t55.729508\t37.468829\n",
    "Cмоленская\t55.74823\t37.58384\n",
    "Cокол\t55.80518\t37.51495\n",
    "Cокольники\t55.78893\t37.67943\n",
    "Cпортивная\t55.72397\t37.56547\n",
    "Cретенский бульвар (стр.)\t55.765551\t37.635261\n",
    "Cтрогино (стр.)\t55.80435\t37.396363\n",
    "Cтуденческая\t55.73873\t37.54825\n",
    "Cухаревская\t55.77211\t37.63239\n",
    "Площадь Cуворова (стр.)\t55.781984\t37.614487\n",
    "Cвиблово\t55.85543\t37.65419\n",
    "Таганская\t55.74255\t37.65389\n",
    "Театральная\t55.75857\t37.6177\n",
    "Текстильшики\t55.70947\t37.73282\n",
    "Теплый стан\t55.61814\t37.50814\n",
    "Тимирязевская\t55.81842\t37.57571\n",
    "Третьяковская\t55.74061\t37.62492\n",
    "Трубная (стр.)\t55.767605\t37.6221\n",
    "Царицино\t55.62011\t37.66939\n",
    "Цветной бульвар\t55.7716\t37.62058\n",
    "Тульская\t55.70901\t37.6226\n",
    "Тургеневская\t55.7646\t37.63623\n",
    "Тушинская\t55.8258\t37.43621\n",
    "Тверская\t55.7652\t37.60352\n",
    "Улица 1905 года\t55.76355\t37.56375\n",
    "Университет\t55.69167\t37.53433\n",
    "Варшавская\t55.65381\t37.62084\n",
    "ВДНХ\t55.82177\t37.64107\n",
    "Проспект Вернадского\t55.67613\t37.5045\n",
    "Владыкино\t55.84669\t37.59251\n",
    "Водный стадион\t55.8386\t37.48749\n",
    "Войковская\t55.81811\t37.49905\n",
    "Волоколамская (стр.)\t55.83459\t37.38367\n",
    "Волгоградский проспект\t55.7243\t37.68795\n",
    "Волжская\t55.69101\t37.75498\n",
    "Воробьёвы горы\t55.710454\t37.558601\n",
    "Выхино\t55.715\t37.81802\n",
    "Ясенево\t55.60535\t37.53494\n",
    "Юго-западная\t55.66464\t37.48421\n",
    "Южная\t55.62122\t37.60752'''"
   ]
  },
  {
   "cell_type": "code",
   "execution_count": 3,
   "metadata": {
    "collapsed": false
   },
   "outputs": [],
   "source": [
    "mstations = []\n",
    "pp = re.findall('\\d+.\\d+',mstat)\n",
    "for i in range(len(pp)/2):\n",
    "    mstations.append([float(pp[2*i]),float(pp[2*i+1])])\n",
    "mstations = np.array(mstations)"
   ]
  },
  {
   "cell_type": "code",
   "execution_count": 4,
   "metadata": {
    "collapsed": false
   },
   "outputs": [],
   "source": [
    "def find_closest_st_dist(coord):\n",
    "    dist = np.sqrt(np.sum(np.square(mstations - coord),axis=1))\n",
    "    return np.min(dist)"
   ]
  },
  {
   "cell_type": "code",
   "execution_count": 5,
   "metadata": {
    "collapsed": false
   },
   "outputs": [],
   "source": [
    "flats = pd.read_csv('raw_flats.csv').drop('Unnamed: 0', axis=1)"
   ]
  },
  {
   "cell_type": "markdown",
   "metadata": {},
   "source": [
    "Будем считать, что земля плоская :D"
   ]
  },
  {
   "cell_type": "code",
   "execution_count": 6,
   "metadata": {
    "collapsed": true
   },
   "outputs": [],
   "source": [
    "max_point = (55.371102, 37.644588)"
   ]
  },
  {
   "cell_type": "code",
   "execution_count": 7,
   "metadata": {
    "collapsed": true
   },
   "outputs": [],
   "source": [
    "flats['dist_to_cent'] = np.sqrt((55.749905-flats['lat'])**2 + (37.615729-flats['lon'])**2)\n",
    "max_dist = np.sqrt((55.749905-max_point[0])**2 + (37.615729-max_point[1])**2)"
   ]
  },
  {
   "cell_type": "code",
   "execution_count": 8,
   "metadata": {
    "collapsed": false
   },
   "outputs": [
    {
     "data": {
      "text/plain": [
       "601"
      ]
     },
     "execution_count": 8,
     "metadata": {},
     "output_type": "execute_result"
    }
   ],
   "source": [
    "np.sum(flats['dist_to_cent'] > max_dist)"
   ]
  },
  {
   "cell_type": "code",
   "execution_count": 9,
   "metadata": {
    "collapsed": true
   },
   "outputs": [],
   "source": [
    "flats = flats.drop(flats.index[flats['dist_to_cent'] > max_dist])"
   ]
  },
  {
   "cell_type": "code",
   "execution_count": 10,
   "metadata": {
    "collapsed": false
   },
   "outputs": [
    {
     "data": {
      "text/plain": [
       "0"
      ]
     },
     "execution_count": 10,
     "metadata": {},
     "output_type": "execute_result"
    }
   ],
   "source": [
    "np.sum(flats['dist_to_cent'] > max_dist)"
   ]
  },
  {
   "cell_type": "code",
   "execution_count": 11,
   "metadata": {
    "collapsed": false
   },
   "outputs": [
    {
     "data": {
      "text/plain": [
       "88608"
      ]
     },
     "execution_count": 11,
     "metadata": {},
     "output_type": "execute_result"
    }
   ],
   "source": [
    "len(flats)"
   ]
  },
  {
   "cell_type": "markdown",
   "metadata": {},
   "source": [
    "Считаем расстояние до ближайшего метро:"
   ]
  },
  {
   "cell_type": "code",
   "execution_count": 12,
   "metadata": {
    "collapsed": false
   },
   "outputs": [],
   "source": [
    "for i in flats.index:\n",
    "    flats.ix[i,'closest_metro'] = find_closest_st_dist([flats.ix[i,'lat'],flats.ix[i,'lon']])"
   ]
  },
  {
   "cell_type": "markdown",
   "metadata": {},
   "source": [
    "Heatmap географического положения квартир:"
   ]
  },
  {
   "cell_type": "code",
   "execution_count": 13,
   "metadata": {
    "collapsed": false
   },
   "outputs": [
    {
     "data": {
      "image/png": "[encoded data removed]",
      "text/plain": [
       "<matplotlib.figure.Figure at 0x7f8be52fe650>"
      ]
     },
     "metadata": {},
     "output_type": "display_data"
    }
   ],
   "source": [
    "samp = random.sample(population=flats.index, k=len(flats))\n",
    "heatmap, xedges, yedges = np.histogram2d(flats.ix[samp,'lat'], flats.ix[samp,'lon'], bins=50)\n",
    "extent = [xedges[0], xedges[-1], yedges[0], yedges[-1]]\n",
    "\n",
    "plt.clf()\n",
    "plt.imshow(heatmap.T, extent=extent, origin='lower')\n",
    "plt.show()"
   ]
  },
  {
   "cell_type": "markdown",
   "metadata": {},
   "source": [
    "Многовато квартир в центре... Наверняка, это риелторы"
   ]
  },
  {
   "cell_type": "code",
   "execution_count": 15,
   "metadata": {
    "collapsed": false
   },
   "outputs": [
    {
     "data": {
      "text/plain": [
       "Index([u'bal0', u'bal1', u'bal10', u'bal11', u'bal2', u'bal3', u'bal4',\n",
       "       u'bal5', u'bal6', u'bal7', u'bal8', u'bal9', u'elev0', u'elev1',\n",
       "       u'flat_url', u'floor', u'hfloor', u'htype', u'kitarea', u'lat',\n",
       "       u'livarea', u'lon', u'offertype', u'overallarea', u'parktype', u'price',\n",
       "       u'rdate', u'roomarea0', u'roomarea1', u'roomarea10', u'roomarea11',\n",
       "       u'roomarea2', u'roomarea3', u'roomarea4', u'roomarea5', u'roomarea6',\n",
       "       u'roomarea7', u'roomarea8', u'roomarea9', u'rooms', u'slavnum',\n",
       "       u'ulavnum', u'view', u'dist_to_cent', u'closest_metro'],\n",
       "      dtype='object')"
      ]
     },
     "execution_count": 15,
     "metadata": {},
     "output_type": "execute_result"
    }
   ],
   "source": [
    "flats.columns"
   ]
  },
  {
   "cell_type": "markdown",
   "metadata": {},
   "source": [
    "bal0 - разные типы балконов и их количество, остальные bal* бесполезны\n",
    "\n",
    "elev* - типы лифтов и их количество\n",
    "\n",
    "floor - этаж квартиры\n",
    "\n",
    "hfloor - этажей в доме\n",
    "\n",
    "htype - тип дома\n",
    "\n",
    "kitarea - площадь кухни\n",
    "\n",
    "lat, lon - широта, долгота\n",
    "\n",
    "offertype - тип сделки\n",
    "\n",
    "overallarea - общая пл квартиры\n",
    "\n",
    "parktype - тип парковки\n",
    "\n",
    "rdate - дата сдачи дома (0, если уже сдан)\n",
    "\n",
    "roomareaN - равна площади комнаты, если rooms-1 >= N, и нулю в противном случае\n",
    "\n",
    "rooms - количество комнат\n",
    "\n",
    "*lavnum - количество раздельных/объединенных санузлов\n",
    "\n",
    "view - вид из квартиры\n",
    "\n",
    "dist_to_cent - расстояние до центра\n",
    "\n",
    "closest_metro - расстояние до ближайшего метро"
   ]
  },
  {
   "cell_type": "code",
   "execution_count": 16,
   "metadata": {
    "collapsed": false
   },
   "outputs": [],
   "source": [
    "flats = flats.drop(['bal' + str(x) for x in range(1,12)], axis=1)"
   ]
  },
  {
   "cell_type": "code",
   "execution_count": 17,
   "metadata": {
    "collapsed": false,
    "scrolled": true
   },
   "outputs": [
    {
     "data": {
      "text/html": [
       "<div>\n",
       "<table border=\"1\" class=\"dataframe\">\n",
       "  <thead>\n",
       "    <tr style=\"text-align: right;\">\n",
       "      <th></th>\n",
       "      <th>bal0</th>\n",
       "      <th>elev0</th>\n",
       "      <th>elev1</th>\n",
       "      <th>flat_url</th>\n",
       "      <th>floor</th>\n",
       "      <th>hfloor</th>\n",
       "      <th>htype</th>\n",
       "      <th>kitarea</th>\n",
       "      <th>lat</th>\n",
       "      <th>livarea</th>\n",
       "      <th>...</th>\n",
       "      <th>roomarea6</th>\n",
       "      <th>roomarea7</th>\n",
       "      <th>roomarea8</th>\n",
       "      <th>roomarea9</th>\n",
       "      <th>rooms</th>\n",
       "      <th>slavnum</th>\n",
       "      <th>ulavnum</th>\n",
       "      <th>view</th>\n",
       "      <th>dist_to_cent</th>\n",
       "      <th>closest_metro</th>\n",
       "    </tr>\n",
       "  </thead>\n",
       "  <tbody>\n",
       "    <tr>\n",
       "      <th>0</th>\n",
       "      <td>NaN</td>\n",
       "      <td>2 пасс</td>\n",
       "      <td>NaN</td>\n",
       "      <td>http://www.cian.ru/sale/flat/31158628/</td>\n",
       "      <td>2.0</td>\n",
       "      <td>10.0</td>\n",
       "      <td>вторичка,кирпичный</td>\n",
       "      <td>7.0</td>\n",
       "      <td>55.763067</td>\n",
       "      <td>27.0</td>\n",
       "      <td>...</td>\n",
       "      <td>0.0</td>\n",
       "      <td>0.0</td>\n",
       "      <td>0.0</td>\n",
       "      <td>0.0</td>\n",
       "      <td>2</td>\n",
       "      <td>NaN</td>\n",
       "      <td>1.0</td>\n",
       "      <td>двор</td>\n",
       "      <td>0.016468</td>\n",
       "      <td>0.003071</td>\n",
       "    </tr>\n",
       "    <tr>\n",
       "      <th>1</th>\n",
       "      <td>1 балк</td>\n",
       "      <td>2 пасс</td>\n",
       "      <td>2 груз</td>\n",
       "      <td>http://www.cian.ru/sale/flat/142411682/</td>\n",
       "      <td>11.0</td>\n",
       "      <td>22.0</td>\n",
       "      <td>вторичка,кирпично-монолитный</td>\n",
       "      <td>10.0</td>\n",
       "      <td>55.925672</td>\n",
       "      <td>43.0</td>\n",
       "      <td>...</td>\n",
       "      <td>0.0</td>\n",
       "      <td>0.0</td>\n",
       "      <td>0.0</td>\n",
       "      <td>0.0</td>\n",
       "      <td>3</td>\n",
       "      <td>1.0</td>\n",
       "      <td>NaN</td>\n",
       "      <td>двориулица</td>\n",
       "      <td>0.189690</td>\n",
       "      <td>0.051705</td>\n",
       "    </tr>\n",
       "    <tr>\n",
       "      <th>2</th>\n",
       "      <td>NaN</td>\n",
       "      <td>NaN</td>\n",
       "      <td>NaN</td>\n",
       "      <td>http://www.cian.ru/sale/flat/146034526/</td>\n",
       "      <td>1.0</td>\n",
       "      <td>5.0</td>\n",
       "      <td>вторичка,панельный</td>\n",
       "      <td>6.0</td>\n",
       "      <td>55.776340</td>\n",
       "      <td>26.0</td>\n",
       "      <td>...</td>\n",
       "      <td>0.0</td>\n",
       "      <td>0.0</td>\n",
       "      <td>0.0</td>\n",
       "      <td>0.0</td>\n",
       "      <td>2</td>\n",
       "      <td>NaN</td>\n",
       "      <td>1.0</td>\n",
       "      <td>двориулица</td>\n",
       "      <td>0.123416</td>\n",
       "      <td>0.017357</td>\n",
       "    </tr>\n",
       "    <tr>\n",
       "      <th>3</th>\n",
       "      <td>1 балк</td>\n",
       "      <td>1 пасс</td>\n",
       "      <td>NaN</td>\n",
       "      <td>http://www.cian.ru/sale/flat/151944809/</td>\n",
       "      <td>4.0</td>\n",
       "      <td>9.0</td>\n",
       "      <td>вторичка,панельный</td>\n",
       "      <td>7.0</td>\n",
       "      <td>55.616209</td>\n",
       "      <td>36.0</td>\n",
       "      <td>...</td>\n",
       "      <td>0.0</td>\n",
       "      <td>0.0</td>\n",
       "      <td>0.0</td>\n",
       "      <td>0.0</td>\n",
       "      <td>3</td>\n",
       "      <td>1.0</td>\n",
       "      <td>NaN</td>\n",
       "      <td>двор</td>\n",
       "      <td>0.161571</td>\n",
       "      <td>0.011365</td>\n",
       "    </tr>\n",
       "    <tr>\n",
       "      <th>4</th>\n",
       "      <td>1 лодж</td>\n",
       "      <td>1 пасс</td>\n",
       "      <td>1 груз</td>\n",
       "      <td>http://www.cian.ru/sale/flat/149703671/</td>\n",
       "      <td>10.0</td>\n",
       "      <td>14.0</td>\n",
       "      <td>вторичка,кирпичный</td>\n",
       "      <td>7.0</td>\n",
       "      <td>55.747024</td>\n",
       "      <td>19.0</td>\n",
       "      <td>...</td>\n",
       "      <td>0.0</td>\n",
       "      <td>0.0</td>\n",
       "      <td>0.0</td>\n",
       "      <td>0.0</td>\n",
       "      <td>1</td>\n",
       "      <td>1.0</td>\n",
       "      <td>NaN</td>\n",
       "      <td>двор</td>\n",
       "      <td>0.048252</td>\n",
       "      <td>0.003252</td>\n",
       "    </tr>\n",
       "  </tbody>\n",
       "</table>\n",
       "<p>5 rows × 34 columns</p>\n",
       "</div>"
      ],
      "text/plain": [
       "     bal0   elev0   elev1                                 flat_url  floor  \\\n",
       "0     NaN  2 пасс     NaN   http://www.cian.ru/sale/flat/31158628/    2.0   \n",
       "1  1 балк  2 пасс  2 груз  http://www.cian.ru/sale/flat/142411682/   11.0   \n",
       "2     NaN     NaN     NaN  http://www.cian.ru/sale/flat/146034526/    1.0   \n",
       "3  1 балк  1 пасс     NaN  http://www.cian.ru/sale/flat/151944809/    4.0   \n",
       "4  1 лодж  1 пасс  1 груз  http://www.cian.ru/sale/flat/149703671/   10.0   \n",
       "\n",
       "   hfloor                         htype  kitarea        lat  livarea  \\\n",
       "0    10.0            вторичка,кирпичный      7.0  55.763067     27.0   \n",
       "1    22.0  вторичка,кирпично-монолитный     10.0  55.925672     43.0   \n",
       "2     5.0            вторичка,панельный      6.0  55.776340     26.0   \n",
       "3     9.0            вторичка,панельный      7.0  55.616209     36.0   \n",
       "4    14.0            вторичка,кирпичный      7.0  55.747024     19.0   \n",
       "\n",
       "       ...        roomarea6 roomarea7  roomarea8 roomarea9  rooms slavnum  \\\n",
       "0      ...              0.0       0.0        0.0       0.0      2     NaN   \n",
       "1      ...              0.0       0.0        0.0       0.0      3     1.0   \n",
       "2      ...              0.0       0.0        0.0       0.0      2     NaN   \n",
       "3      ...              0.0       0.0        0.0       0.0      3     1.0   \n",
       "4      ...              0.0       0.0        0.0       0.0      1     1.0   \n",
       "\n",
       "   ulavnum        view  dist_to_cent  closest_metro  \n",
       "0      1.0        двор      0.016468       0.003071  \n",
       "1      NaN  двориулица      0.189690       0.051705  \n",
       "2      1.0  двориулица      0.123416       0.017357  \n",
       "3      NaN        двор      0.161571       0.011365  \n",
       "4      NaN        двор      0.048252       0.003252  \n",
       "\n",
       "[5 rows x 34 columns]"
      ]
     },
     "execution_count": 17,
     "metadata": {},
     "output_type": "execute_result"
    }
   ],
   "source": [
    "flats.head()"
   ]
  },
  {
   "cell_type": "code",
   "execution_count": 18,
   "metadata": {
    "collapsed": true
   },
   "outputs": [],
   "source": [
    "cat = ['bal0', 'elev0', 'elev1', 'htype', 'offertype', 'parktype', 'view']"
   ]
  },
  {
   "cell_type": "markdown",
   "metadata": {},
   "source": [
    "Если указан *lavnum, но другой не указан, то заполнить его нулем:"
   ]
  },
  {
   "cell_type": "code",
   "execution_count": 19,
   "metadata": {
    "collapsed": false
   },
   "outputs": [],
   "source": [
    "flats.ix[np.bitwise_and(np.bitwise_xor(flats['slavnum'].isnull(), flats['ulavnum'].isnull()),flats['slavnum'].isnull()), 'slavnum'] = 0\n",
    "flats.ix[np.bitwise_and(np.bitwise_xor(flats['slavnum'].isnull(), flats['ulavnum'].isnull()),flats['ulavnum'].isnull()), 'ulavnum'] = 0"
   ]
  },
  {
   "cell_type": "markdown",
   "metadata": {},
   "source": [
    "Местами в rooms стоит текст. Выкинем эти наблюдения"
   ]
  },
  {
   "cell_type": "code",
   "execution_count": 20,
   "metadata": {
    "collapsed": true
   },
   "outputs": [],
   "source": [
    "to_drop = []\n",
    "for i in flats.index:\n",
    "    try:\n",
    "        int(flats.ix[i,'rooms'])\n",
    "    except:\n",
    "        to_drop.append(i)"
   ]
  },
  {
   "cell_type": "code",
   "execution_count": 21,
   "metadata": {
    "collapsed": false
   },
   "outputs": [
    {
     "data": {
      "text/plain": [
       "2400"
      ]
     },
     "execution_count": 21,
     "metadata": {},
     "output_type": "execute_result"
    }
   ],
   "source": [
    "len(to_drop)"
   ]
  },
  {
   "cell_type": "code",
   "execution_count": 22,
   "metadata": {
    "collapsed": false
   },
   "outputs": [
    {
     "data": {
      "text/plain": [
       "88608"
      ]
     },
     "execution_count": 22,
     "metadata": {},
     "output_type": "execute_result"
    }
   ],
   "source": [
    "len(flats)"
   ]
  },
  {
   "cell_type": "code",
   "execution_count": 23,
   "metadata": {
    "collapsed": true
   },
   "outputs": [],
   "source": [
    "flats = flats.drop(to_drop)"
   ]
  },
  {
   "cell_type": "code",
   "execution_count": 24,
   "metadata": {
    "collapsed": false
   },
   "outputs": [],
   "source": [
    "flats = pd.get_dummies(columns=cat,data=flats,dummy_na=True)"
   ]
  },
  {
   "cell_type": "markdown",
   "metadata": {},
   "source": [
    "Преобразуем дату сдачи в хороший формат:"
   ]
  },
  {
   "cell_type": "code",
   "execution_count": 25,
   "metadata": {
    "collapsed": false
   },
   "outputs": [
    {
     "data": {
      "text/plain": [
       "'(4, 2017)'"
      ]
     },
     "execution_count": 25,
     "metadata": {},
     "output_type": "execute_result"
    }
   ],
   "source": [
    "flats['rdate'][18]"
   ]
  },
  {
   "cell_type": "code",
   "execution_count": 26,
   "metadata": {
    "collapsed": false
   },
   "outputs": [],
   "source": [
    "for i in flats.index:\n",
    "    try:\n",
    "        ev = eval(flats.ix[i,'rdate'])\n",
    "        flats.ix[i,'rdate'] = 4*ev[1] + ev[0] - 1\n",
    "    except:\n",
    "        pass"
   ]
  },
  {
   "cell_type": "code",
   "execution_count": 27,
   "metadata": {
    "collapsed": false
   },
   "outputs": [],
   "source": [
    "flats['rdate'] = flats['rdate'] - np.sort(flats['rdate'].dropna().unique())[1] + 1"
   ]
  },
  {
   "cell_type": "code",
   "execution_count": 28,
   "metadata": {
    "collapsed": false
   },
   "outputs": [],
   "source": [
    "flats.ix[flats['rdate'] == np.sort(flats['rdate'].dropna().unique())[0], :] = 0"
   ]
  },
  {
   "cell_type": "code",
   "execution_count": 29,
   "metadata": {
    "collapsed": false
   },
   "outputs": [
    {
     "data": {
      "text/plain": [
       "array([0, 1, 7, 8, 11, 12, 13, 14, 15, 16, 18, 19, 20, 21, 22, 23, 25, 27,\n",
       "       28, 29, 30, 31, 32, 33, 35, 36, 37, 38, 39, 40, 41, 42, 43, 44, 45,\n",
       "       46, 47, 48, 49, 50, 51, 52, 53, 54, 55, 56, 57, 58, 59, 60, 61, 62,\n",
       "       63, 66, 67], dtype=object)"
      ]
     },
     "execution_count": 29,
     "metadata": {},
     "output_type": "execute_result"
    }
   ],
   "source": [
    "np.sort(flats['rdate'].dropna().unique())"
   ]
  },
  {
   "cell_type": "markdown",
   "metadata": {},
   "source": [
    "Дамми переменные для равных nan регрессоров:"
   ]
  },
  {
   "cell_type": "code",
   "execution_count": 30,
   "metadata": {
    "collapsed": true
   },
   "outputs": [],
   "source": [
    "#nan_dummies = ['rdate','slavnum','ulavnum'] + [x for x in flats.columns if 'room' in x]\n",
    "nan_dummies = ['rdate']"
   ]
  },
  {
   "cell_type": "code",
   "execution_count": 31,
   "metadata": {
    "collapsed": false
   },
   "outputs": [],
   "source": [
    "for d in nan_dummies:\n",
    "    flats[d + '_nan'] = flats[d].isnull()\n",
    "    flats.ix[flats[d].isnull(),d] = 0"
   ]
  },
  {
   "cell_type": "code",
   "execution_count": 32,
   "metadata": {
    "collapsed": true
   },
   "outputs": [],
   "source": [
    "urls = flats['flat_url']\n",
    "flats = flats.drop('flat_url', axis=1)"
   ]
  },
  {
   "cell_type": "code",
   "execution_count": 33,
   "metadata": {
    "collapsed": false
   },
   "outputs": [
    {
     "name": "stdout",
     "output_type": "stream",
     "text": [
      "floor\n",
      "hfloor\n",
      "kitarea\n",
      "lat\n",
      "livarea\n",
      "lon\n",
      "overallarea\n",
      "price\n",
      "rdate\n",
      "roomarea0\n",
      "roomarea1\n",
      "roomarea10\n",
      "roomarea11\n",
      "roomarea2\n",
      "roomarea3\n",
      "roomarea4\n",
      "roomarea5\n",
      "roomarea6\n",
      "roomarea7\n",
      "roomarea8\n",
      "roomarea9\n",
      "rooms\n",
      "slavnum\n",
      "ulavnum\n",
      "dist_to_cent\n",
      "closest_metro\n",
      "bal0_1 балк\n",
      "bal0_1 лодж\n",
      "bal0_15 балк\n",
      "bal0_2 балк\n",
      "bal0_2 лодж\n",
      "bal0_3 балк\n",
      "bal0_3 лодж\n",
      "bal0_4 балк\n",
      "bal0_4 лодж\n",
      "bal0_5 балк\n",
      "bal0_5 лодж\n",
      "bal0_6 лодж\n",
      "bal0_нет\n",
      "bal0_nan\n",
      "elev0_1 груз\n",
      "elev0_1 пасс\n",
      "elev0_10 пасс\n",
      "elev0_13 пасс\n",
      "elev0_2 груз\n",
      "elev0_2 пасс\n",
      "elev0_26 пасс\n",
      "elev0_3 груз\n",
      "elev0_3 пасс\n",
      "elev0_33 пасс\n",
      "elev0_4 груз\n",
      "elev0_4 пасс\n",
      "elev0_5 пасс\n",
      "elev0_52 пасс\n",
      "elev0_55 пасс\n",
      "elev0_6 груз\n",
      "elev0_6 пасс\n",
      "elev0_67 пасс\n",
      "elev0_8 пасс\n",
      "elev0_94 пасс\n",
      "elev0_nan\n",
      "elev1_1 груз\n",
      "elev1_10 груз\n",
      "elev1_11 груз\n",
      "elev1_2 груз\n",
      "elev1_3 груз\n",
      "elev1_36 груз\n",
      "elev1_4 груз\n",
      "elev1_5 груз\n",
      "elev1_nan\n",
      "htype_вторичка\n",
      "htype_вторичка,блочный\n",
      "htype_вторичка,деревянный\n",
      "htype_вторичка,кирпично-монолитный\n",
      "htype_вторичка,кирпичный\n",
      "htype_вторичка,монолитный\n",
      "htype_вторичка,панельный\n",
      "htype_вторичка,сталинский\n",
      "htype_вторичка,щитовой\n",
      "htype_новостройка\n",
      "htype_новостройка,блочный\n",
      "htype_новостройка,кирпично-монолитный\n",
      "htype_новостройка,кирпичный\n",
      "htype_новостройка,монолитный\n",
      "htype_новостройка,панельный\n",
      "htype_новостройка,сталинский\n",
      "htype_nan\n",
      "offertype_214\n",
      "offertype_альтернатива\n",
      "offertype_договор\n",
      "offertype_переуступка\n",
      "offertype_предварительный\n",
      "offertype_свободная\n",
      "offertype_nan\n",
      "parktype_многоуровневая\n",
      "parktype_на\n",
      "parktype_наземная\n",
      "parktype_подземная\n",
      "parktype_nan\n",
      "view_двор\n",
      "view_двориулица\n",
      "view_улица\n",
      "view_nan\n",
      "rdate_nan\n"
     ]
    }
   ],
   "source": [
    "for i in list(flats.columns):\n",
    "    print(i)"
   ]
  },
  {
   "cell_type": "code",
   "execution_count": null,
   "metadata": {
    "collapsed": true
   },
   "outputs": [],
   "source": []
  },
  {
   "cell_type": "markdown",
   "metadata": {},
   "source": [
    "Теперь nan могут быть только в roomarea,rooms,livarea и прочих важных регрессорах. Наверное, это не очень качественные объявления. Выкинем их"
   ]
  },
  {
   "cell_type": "code",
   "execution_count": 34,
   "metadata": {
    "collapsed": true
   },
   "outputs": [],
   "source": [
    "cflats = flats.dropna()"
   ]
  },
  {
   "cell_type": "code",
   "execution_count": 35,
   "metadata": {
    "collapsed": false
   },
   "outputs": [
    {
     "data": {
      "text/plain": [
       "37704"
      ]
     },
     "execution_count": 35,
     "metadata": {},
     "output_type": "execute_result"
    }
   ],
   "source": [
    "len(cflats)"
   ]
  },
  {
   "cell_type": "code",
   "execution_count": 36,
   "metadata": {
    "collapsed": true
   },
   "outputs": [],
   "source": [
    "fflats = flats.copy()\n",
    "flats = cflats"
   ]
  },
  {
   "cell_type": "code",
   "execution_count": 37,
   "metadata": {
    "collapsed": false
   },
   "outputs": [
    {
     "data": {
      "image/png": "[encoded data removed]",
      "text/plain": [
       "<matplotlib.figure.Figure at 0x7f8bbb864790>"
      ]
     },
     "metadata": {},
     "output_type": "display_data"
    }
   ],
   "source": [
    "testf = flats.copy()\n",
    "testf['dist_to_cent'] = np.sqrt((55.749905-flats['lat'])**2 + (37.615729-flats['lon'])**2)\n",
    "max_dist = np.sqrt((55.749905-max_point[0])**2 + (37.615729-max_point[1])**2)\n",
    "\n",
    "testf = testf.drop(testf.index[testf['dist_to_cent'] > max_dist])\n",
    "\n",
    "samp = random.sample(population=testf.index, k=len(testf))\n",
    "heatmap, xedges, yedges = np.histogram2d(testf.ix[samp,'lat'], testf.ix[samp,'lon'], bins=50)\n",
    "extent = [xedges[0], xedges[-1], yedges[0], yedges[-1]]\n",
    "\n",
    "plt.clf()\n",
    "plt.imshow(heatmap.T, extent=extent, origin='lower')\n",
    "plt.show()"
   ]
  },
  {
   "cell_type": "markdown",
   "metadata": {},
   "source": [
    "Картинка стала лучше: меньше квартир в центре"
   ]
  },
  {
   "cell_type": "code",
   "execution_count": 38,
   "metadata": {
    "collapsed": false
   },
   "outputs": [],
   "source": [
    "flats.fillna(inplace=True,value=-10)"
   ]
  },
  {
   "cell_type": "code",
   "execution_count": 39,
   "metadata": {
    "collapsed": false
   },
   "outputs": [],
   "source": [
    "flats['price'] = np.log(200+flats['price'])"
   ]
  },
  {
   "cell_type": "code",
   "execution_count": 40,
   "metadata": {
    "collapsed": false
   },
   "outputs": [
    {
     "data": {
      "text/html": [
       "<div>\n",
       "<table border=\"1\" class=\"dataframe\">\n",
       "  <thead>\n",
       "    <tr style=\"text-align: right;\">\n",
       "      <th></th>\n",
       "      <th>floor</th>\n",
       "      <th>hfloor</th>\n",
       "      <th>kitarea</th>\n",
       "      <th>lat</th>\n",
       "      <th>livarea</th>\n",
       "      <th>lon</th>\n",
       "      <th>overallarea</th>\n",
       "      <th>price</th>\n",
       "      <th>rdate</th>\n",
       "      <th>roomarea0</th>\n",
       "      <th>...</th>\n",
       "      <th>parktype_многоуровневая</th>\n",
       "      <th>parktype_на</th>\n",
       "      <th>parktype_наземная</th>\n",
       "      <th>parktype_подземная</th>\n",
       "      <th>parktype_nan</th>\n",
       "      <th>view_двор</th>\n",
       "      <th>view_двориулица</th>\n",
       "      <th>view_улица</th>\n",
       "      <th>view_nan</th>\n",
       "      <th>rdate_nan</th>\n",
       "    </tr>\n",
       "  </thead>\n",
       "  <tbody>\n",
       "    <tr>\n",
       "      <th>0</th>\n",
       "      <td>2.0</td>\n",
       "      <td>10.0</td>\n",
       "      <td>7.0</td>\n",
       "      <td>55.763067</td>\n",
       "      <td>27.0</td>\n",
       "      <td>37.605831</td>\n",
       "      <td>37.0</td>\n",
       "      <td>16.556363</td>\n",
       "      <td>0</td>\n",
       "      <td>17.0</td>\n",
       "      <td>...</td>\n",
       "      <td>0</td>\n",
       "      <td>0</td>\n",
       "      <td>0</td>\n",
       "      <td>0</td>\n",
       "      <td>1</td>\n",
       "      <td>1</td>\n",
       "      <td>0</td>\n",
       "      <td>0</td>\n",
       "      <td>0</td>\n",
       "      <td>True</td>\n",
       "    </tr>\n",
       "    <tr>\n",
       "      <th>1</th>\n",
       "      <td>11.0</td>\n",
       "      <td>22.0</td>\n",
       "      <td>10.0</td>\n",
       "      <td>55.925672</td>\n",
       "      <td>43.0</td>\n",
       "      <td>37.544396</td>\n",
       "      <td>73.0</td>\n",
       "      <td>16.117115</td>\n",
       "      <td>0</td>\n",
       "      <td>18.0</td>\n",
       "      <td>...</td>\n",
       "      <td>0</td>\n",
       "      <td>0</td>\n",
       "      <td>0</td>\n",
       "      <td>0</td>\n",
       "      <td>1</td>\n",
       "      <td>0</td>\n",
       "      <td>1</td>\n",
       "      <td>0</td>\n",
       "      <td>0</td>\n",
       "      <td>True</td>\n",
       "    </tr>\n",
       "    <tr>\n",
       "      <th>2</th>\n",
       "      <td>1.0</td>\n",
       "      <td>5.0</td>\n",
       "      <td>6.0</td>\n",
       "      <td>55.776340</td>\n",
       "      <td>26.0</td>\n",
       "      <td>37.495177</td>\n",
       "      <td>42.0</td>\n",
       "      <td>15.856757</td>\n",
       "      <td>0</td>\n",
       "      <td>18.0</td>\n",
       "      <td>...</td>\n",
       "      <td>0</td>\n",
       "      <td>0</td>\n",
       "      <td>0</td>\n",
       "      <td>0</td>\n",
       "      <td>1</td>\n",
       "      <td>0</td>\n",
       "      <td>1</td>\n",
       "      <td>0</td>\n",
       "      <td>0</td>\n",
       "      <td>True</td>\n",
       "    </tr>\n",
       "    <tr>\n",
       "      <th>4</th>\n",
       "      <td>10.0</td>\n",
       "      <td>14.0</td>\n",
       "      <td>7.0</td>\n",
       "      <td>55.747024</td>\n",
       "      <td>19.0</td>\n",
       "      <td>37.567563</td>\n",
       "      <td>43.0</td>\n",
       "      <td>16.510151</td>\n",
       "      <td>0</td>\n",
       "      <td>19.0</td>\n",
       "      <td>...</td>\n",
       "      <td>0</td>\n",
       "      <td>0</td>\n",
       "      <td>1</td>\n",
       "      <td>0</td>\n",
       "      <td>0</td>\n",
       "      <td>1</td>\n",
       "      <td>0</td>\n",
       "      <td>0</td>\n",
       "      <td>0</td>\n",
       "      <td>True</td>\n",
       "    </tr>\n",
       "    <tr>\n",
       "      <th>6</th>\n",
       "      <td>13.0</td>\n",
       "      <td>15.0</td>\n",
       "      <td>11.1</td>\n",
       "      <td>55.848134</td>\n",
       "      <td>17.9</td>\n",
       "      <td>37.637506</td>\n",
       "      <td>42.4</td>\n",
       "      <td>16.084539</td>\n",
       "      <td>0</td>\n",
       "      <td>17.0</td>\n",
       "      <td>...</td>\n",
       "      <td>0</td>\n",
       "      <td>0</td>\n",
       "      <td>0</td>\n",
       "      <td>0</td>\n",
       "      <td>1</td>\n",
       "      <td>1</td>\n",
       "      <td>0</td>\n",
       "      <td>0</td>\n",
       "      <td>0</td>\n",
       "      <td>True</td>\n",
       "    </tr>\n",
       "  </tbody>\n",
       "</table>\n",
       "<p>5 rows × 104 columns</p>\n",
       "</div>"
      ],
      "text/plain": [
       "   floor  hfloor  kitarea        lat  livarea        lon  overallarea  \\\n",
       "0    2.0    10.0      7.0  55.763067     27.0  37.605831         37.0   \n",
       "1   11.0    22.0     10.0  55.925672     43.0  37.544396         73.0   \n",
       "2    1.0     5.0      6.0  55.776340     26.0  37.495177         42.0   \n",
       "4   10.0    14.0      7.0  55.747024     19.0  37.567563         43.0   \n",
       "6   13.0    15.0     11.1  55.848134     17.9  37.637506         42.4   \n",
       "\n",
       "       price  rdate  roomarea0    ...      parktype_многоуровневая  \\\n",
       "0  16.556363      0       17.0    ...                            0   \n",
       "1  16.117115      0       18.0    ...                            0   \n",
       "2  15.856757      0       18.0    ...                            0   \n",
       "4  16.510151      0       19.0    ...                            0   \n",
       "6  16.084539      0       17.0    ...                            0   \n",
       "\n",
       "   parktype_на  parktype_наземная  parktype_подземная  parktype_nan  \\\n",
       "0            0                  0                   0             1   \n",
       "1            0                  0                   0             1   \n",
       "2            0                  0                   0             1   \n",
       "4            0                  1                   0             0   \n",
       "6            0                  0                   0             1   \n",
       "\n",
       "   view_двор  view_двориулица  view_улица  view_nan  rdate_nan  \n",
       "0          1                0           0         0       True  \n",
       "1          0                1           0         0       True  \n",
       "2          0                1           0         0       True  \n",
       "4          1                0           0         0       True  \n",
       "6          1                0           0         0       True  \n",
       "\n",
       "[5 rows x 104 columns]"
      ]
     },
     "execution_count": 40,
     "metadata": {},
     "output_type": "execute_result"
    }
   ],
   "source": [
    "flats.head()"
   ]
  },
  {
   "cell_type": "code",
   "execution_count": 41,
   "metadata": {
    "collapsed": false
   },
   "outputs": [
    {
     "data": {
      "image/png": "[encoded data removed]",
      "text/plain": [
       "<matplotlib.figure.Figure at 0x7f8bbb959350>"
      ]
     },
     "metadata": {},
     "output_type": "display_data"
    },
    {
     "data": {
      "image/png": "[encoded data removed]",
      "text/plain": [
       "<matplotlib.figure.Figure at 0x7f8bbb951290>"
      ]
     },
     "metadata": {},
     "output_type": "display_data"
    }
   ],
   "source": [
    "plt.hist(flats['floor'],bins=40)\n",
    "plt.show()\n",
    "plt.hist(flats['hfloor'],bins=100)\n",
    "plt.show()"
   ]
  },
  {
   "cell_type": "code",
   "execution_count": 42,
   "metadata": {
    "collapsed": false
   },
   "outputs": [
    {
     "data": {
      "image/png": "[encoded data removed]",
      "text/plain": [
       "<matplotlib.figure.Figure at 0x7f8bbb94b410>"
      ]
     },
     "metadata": {},
     "output_type": "display_data"
    }
   ],
   "source": [
    "plt.hist(flats['overallarea'],bins=40)\n",
    "plt.show()"
   ]
  },
  {
   "cell_type": "code",
   "execution_count": 43,
   "metadata": {
    "collapsed": false
   },
   "outputs": [],
   "source": [
    "#regs = ['overallarea', 'lon', 'lat', 'hfloor', 'floor', 'livarea', 'slavnum','roomarea3', 'kitarea', 'roomarea0', 'rooms', 'ulavnum', 'slavnum_nan']\n",
    "regs = [x for x in flats.columns if not 'price' in x]\n",
    "regs = np.array(regs)\n",
    "X = np.array(flats.drop('price',axis=1), dtype='float32')\n",
    "X = np.array(flats.ix[:,regs], dtype='float32')\n",
    "y = np.array(flats['price'],dtype='float32')"
   ]
  },
  {
   "cell_type": "code",
   "execution_count": 44,
   "metadata": {
    "collapsed": false
   },
   "outputs": [
    {
     "name": "stderr",
     "output_type": "stream",
     "text": [
      "/home/nikita/anaconda2/lib/python2.7/site-packages/sklearn/cross_validation.py:44: DeprecationWarning: This module was deprecated in version 0.18 in favor of the model_selection module into which all the refactored classes and functions are moved. Also note that the interface of the new CV iterators are different from that of this module. This module will be removed in 0.20.\n",
      "  \"This module will be removed in 0.20.\", DeprecationWarning)\n"
     ]
    }
   ],
   "source": [
    "from sklearn.cross_validation import train_test_split\n",
    "from sklearn.ensemble import RandomForestRegressor"
   ]
  },
  {
   "cell_type": "code",
   "execution_count": 45,
   "metadata": {
    "collapsed": true
   },
   "outputs": [],
   "source": [
    "X_train, X_test, y_train, y_test = train_test_split(X, y, test_size=0.1, random_state=42)"
   ]
  },
  {
   "cell_type": "code",
   "execution_count": 46,
   "metadata": {
    "collapsed": false
   },
   "outputs": [
    {
     "data": {
      "text/plain": [
       "(33933, 103)"
      ]
     },
     "execution_count": 46,
     "metadata": {},
     "output_type": "execute_result"
    }
   ],
   "source": [
    "X_train.shape"
   ]
  },
  {
   "cell_type": "code",
   "execution_count": 47,
   "metadata": {
    "collapsed": true
   },
   "outputs": [],
   "source": [
    "reg = RandomForestRegressor(n_estimators=1000, n_jobs=8, oob_score=True)"
   ]
  },
  {
   "cell_type": "code",
   "execution_count": 48,
   "metadata": {
    "collapsed": false
   },
   "outputs": [
    {
     "data": {
      "text/plain": [
       "RandomForestRegressor(bootstrap=True, criterion='mse', max_depth=None,\n",
       "           max_features='auto', max_leaf_nodes=None,\n",
       "           min_impurity_split=1e-07, min_samples_leaf=1,\n",
       "           min_samples_split=2, min_weight_fraction_leaf=0.0,\n",
       "           n_estimators=1000, n_jobs=8, oob_score=True, random_state=None,\n",
       "           verbose=0, warm_start=False)"
      ]
     },
     "execution_count": 48,
     "metadata": {},
     "output_type": "execute_result"
    }
   ],
   "source": [
    "reg.fit(X_train, y_train)"
   ]
  },
  {
   "cell_type": "code",
   "execution_count": 49,
   "metadata": {
    "collapsed": false
   },
   "outputs": [
    {
     "data": {
      "text/plain": [
       "2510056.5966971139"
      ]
     },
     "execution_count": 49,
     "metadata": {},
     "output_type": "execute_result"
    }
   ],
   "source": [
    "np.mean(np.abs(np.exp(reg.predict(X_test)) - np.exp(y_test)))"
   ]
  },
  {
   "cell_type": "code",
   "execution_count": 50,
   "metadata": {
    "collapsed": false
   },
   "outputs": [
    {
     "data": {
      "text/plain": [
       "10234101.895770613"
      ]
     },
     "execution_count": 50,
     "metadata": {},
     "output_type": "execute_result"
    }
   ],
   "source": [
    "np.sqrt(np.mean(np.square(np.exp(reg.predict(X_test)) - np.exp(y_test))))"
   ]
  },
  {
   "cell_type": "markdown",
   "metadata": {},
   "source": [
    "Важность признаков:"
   ]
  },
  {
   "cell_type": "code",
   "execution_count": 51,
   "metadata": {
    "collapsed": false,
    "scrolled": true
   },
   "outputs": [
    {
     "name": "stdout",
     "output_type": "stream",
     "text": [
      "overallarea\n",
      "dist_to_cent\n",
      "hfloor\n",
      "livarea\n",
      "rooms\n",
      "lon\n",
      "lat\n",
      "closest_metro\n",
      "floor\n",
      "kitarea\n",
      "roomarea0\n",
      "roomarea1\n",
      "ulavnum\n",
      "roomarea2\n",
      "htype_вторичка,панельный\n",
      "htype_вторичка,монолитный\n",
      "parktype_подземная\n",
      "slavnum\n",
      "rdate\n",
      "roomarea3\n",
      "htype_вторичка,кирпично-монолитный\n",
      "offertype_свободная\n",
      "bal0_nan\n",
      "elev0_nan\n",
      "parktype_наземная\n",
      "offertype_альтернатива\n",
      "htype_вторичка,кирпичный\n",
      "elev1_nan\n",
      "htype_новостройка,монолитный\n",
      "bal0_1 лодж\n",
      "view_двор\n",
      "elev0_1 пасс\n",
      "parktype_nan\n",
      "bal0_1 балк\n",
      "view_улица\n",
      "bal0_нет\n",
      "htype_вторичка\n",
      "view_двориулица\n",
      "elev1_1 груз\n",
      "roomarea4\n",
      "elev0_2 пасс\n",
      "rdate_nan\n",
      "view_nan\n",
      "bal0_2 лодж\n",
      "elev1_2 груз\n",
      "htype_вторичка,сталинский\n",
      "htype_вторичка,блочный\n",
      "bal0_2 балк\n",
      "offertype_переуступка\n",
      "offertype_214\n",
      "elev0_4 пасс\n",
      "htype_новостройка\n",
      "elev0_1 груз\n",
      "parktype_многоуровневая\n",
      "htype_новостройка,кирпично-монолитный\n",
      "elev0_3 пасс\n",
      "elev1_4 груз\n",
      "bal0_4 лодж\n",
      "htype_новостройка,кирпичный\n",
      "bal0_3 лодж\n",
      "htype_новостройка,панельный\n",
      "bal0_3 балк\n",
      "elev0_2 груз\n",
      "elev1_3 груз\n",
      "elev0_4 груз\n",
      "bal0_4 балк\n",
      "elev0_3 груз\n",
      "offertype_договор\n",
      "roomarea5\n",
      "htype_вторичка,щитовой\n",
      "offertype_предварительный\n",
      "offertype_nan\n",
      "htype_вторичка,деревянный\n",
      "elev0_5 пасс\n",
      "elev1_36 груз\n",
      "parktype_на\n",
      "elev1_5 груз\n",
      "roomarea6\n",
      "elev1_11 груз\n",
      "elev0_52 пасс\n",
      "elev0_94 пасс\n",
      "elev0_8 пасс\n",
      "elev0_67 пасс\n",
      "elev0_6 пасс\n",
      "elev0_6 груз\n",
      "elev0_55 пасс\n",
      "htype_nan\n",
      "htype_новостройка,сталинский\n",
      "roomarea10\n",
      "roomarea11\n",
      "elev0_26 пасс\n",
      "elev0_33 пасс\n",
      "bal0_15 балк\n",
      "elev0_13 пасс\n",
      "roomarea7\n",
      "roomarea8\n",
      "roomarea9\n",
      "htype_новостройка,блочный\n",
      "elev0_10 пасс\n",
      "bal0_6 лодж\n",
      "bal0_5 лодж\n",
      "bal0_5 балк\n",
      "elev1_10 груз\n"
     ]
    }
   ],
   "source": [
    "for i in list(regs[np.argsort(reg.feature_importances_)[::-1]]):\n",
    "    print(i)"
   ]
  },
  {
   "cell_type": "code",
   "execution_count": 55,
   "metadata": {
    "collapsed": false
   },
   "outputs": [
    {
     "data": {
      "image/png": "[encoded data removed]",
      "text/plain": [
       "<matplotlib.figure.Figure at 0x7f8bbb8f71d0>"
      ]
     },
     "metadata": {},
     "output_type": "display_data"
    }
   ],
   "source": [
    "plt.scatter(np.exp(reg.predict(X_test)), np.exp(y_test))\n",
    "plt.show()"
   ]
  },
  {
   "cell_type": "code",
   "execution_count": 62,
   "metadata": {
    "collapsed": false
   },
   "outputs": [
    {
     "data": {
      "image/png": "[encoded data removed]",
      "text/plain": [
       "<matplotlib.figure.Figure at 0x7f8bbb53d950>"
      ]
     },
     "metadata": {},
     "output_type": "display_data"
    }
   ],
   "source": [
    "plt.hist(np.exp(reg.predict(X_test))-np.exp(y_test), bins=80)\n",
    "plt.show()"
   ]
  },
  {
   "cell_type": "code",
   "execution_count": 66,
   "metadata": {
    "collapsed": false
   },
   "outputs": [
    {
     "data": {
      "text/plain": [
       "1970769.6423953176"
      ]
     },
     "execution_count": 66,
     "metadata": {},
     "output_type": "execute_result"
    }
   ],
   "source": [
    "np.sort(np.abs(np.exp(reg.predict(X_test))-np.exp(y_test)))[int(0.8*len(X_test))]"
   ]
  },
  {
   "cell_type": "markdown",
   "metadata": {},
   "source": [
    "С вероятностью в 0.8 попадаем в двухмиллионную окрестность цены"
   ]
  },
  {
   "cell_type": "code",
   "execution_count": 53,
   "metadata": {
    "collapsed": false
   },
   "outputs": [
    {
     "data": {
      "image/png": "[encoded data removed]",
      "text/plain": [
       "<matplotlib.figure.Figure at 0x7f8bbb884850>"
      ]
     },
     "metadata": {},
     "output_type": "display_data"
    }
   ],
   "source": [
    "plt.scatter(reg.predict(X_test), y_test)\n",
    "plt.show()"
   ]
  },
  {
   "cell_type": "code",
   "execution_count": 88,
   "metadata": {
    "collapsed": true
   },
   "outputs": [],
   "source": [
    "regs2 = regs[np.argsort(reg.feature_importances_)[::-1]][0:20]"
   ]
  },
  {
   "cell_type": "code",
   "execution_count": 89,
   "metadata": {
    "collapsed": true
   },
   "outputs": [],
   "source": [
    "regs2 = np.array(regs2)\n",
    "X = np.array(flats.drop('price',axis=1), dtype='float32')\n",
    "X = np.array(flats.ix[:,regs], dtype='float32')\n",
    "y = np.array(flats['price'],dtype='float32')"
   ]
  },
  {
   "cell_type": "code",
   "execution_count": 90,
   "metadata": {
    "collapsed": true
   },
   "outputs": [],
   "source": [
    "X_train, X_test, y_train, y_test = train_test_split(X, y, test_size=0.1, random_state=42)"
   ]
  },
  {
   "cell_type": "code",
   "execution_count": 91,
   "metadata": {
    "collapsed": false
   },
   "outputs": [
    {
     "data": {
      "text/plain": [
       "RandomForestRegressor(bootstrap=True, criterion='mse', max_depth=None,\n",
       "           max_features='auto', max_leaf_nodes=None,\n",
       "           min_impurity_split=1e-07, min_samples_leaf=1,\n",
       "           min_samples_split=2, min_weight_fraction_leaf=0.0,\n",
       "           n_estimators=1000, n_jobs=8, oob_score=True, random_state=None,\n",
       "           verbose=0, warm_start=False)"
      ]
     },
     "execution_count": 91,
     "metadata": {},
     "output_type": "execute_result"
    }
   ],
   "source": [
    "reg.fit(X_train, y_train)"
   ]
  },
  {
   "cell_type": "code",
   "execution_count": 92,
   "metadata": {
    "collapsed": false
   },
   "outputs": [
    {
     "data": {
      "text/plain": [
       "2510560.8400153769"
      ]
     },
     "execution_count": 92,
     "metadata": {},
     "output_type": "execute_result"
    }
   ],
   "source": [
    "np.mean(np.abs(np.exp(reg.predict(X_test)) - np.exp(y_test)))"
   ]
  },
  {
   "cell_type": "code",
   "execution_count": 93,
   "metadata": {
    "collapsed": false
   },
   "outputs": [
    {
     "data": {
      "text/plain": [
       "(3771, 103)"
      ]
     },
     "execution_count": 93,
     "metadata": {},
     "output_type": "execute_result"
    }
   ],
   "source": [
    "X_test.shape"
   ]
  },
  {
   "cell_type": "code",
   "execution_count": 95,
   "metadata": {
    "collapsed": false
   },
   "outputs": [
    {
     "data": {
      "text/plain": [
       "RandomForestRegressor(bootstrap=True, criterion='mse', max_depth=None,\n",
       "           max_features='auto', max_leaf_nodes=None,\n",
       "           min_impurity_split=1e-07, min_samples_leaf=1,\n",
       "           min_samples_split=2, min_weight_fraction_leaf=0.0,\n",
       "           n_estimators=1000, n_jobs=8, oob_score=True, random_state=None,\n",
       "           verbose=0, warm_start=False)"
      ]
     },
     "execution_count": 95,
     "metadata": {},
     "output_type": "execute_result"
    }
   ],
   "source": [
    "reg.fit(X_train, np.exp(y_train))"
   ]
  },
  {
   "cell_type": "code",
   "execution_count": 96,
   "metadata": {
    "collapsed": false
   },
   "outputs": [
    {
     "data": {
      "text/plain": [
       "2664131.6693702107"
      ]
     },
     "execution_count": 96,
     "metadata": {},
     "output_type": "execute_result"
    }
   ],
   "source": [
    "np.mean(np.abs(reg.predict(X_test) - np.exp(y_test)))"
   ]
  },
  {
   "cell_type": "code",
   "execution_count": null,
   "metadata": {
    "collapsed": true
   },
   "outputs": [],
   "source": []
  }
 ],
 "metadata": {
  "anaconda-cloud": {},
  "kernelspec": {
   "display_name": "Python [conda root]",
   "language": "python",
   "name": "conda-root-py"
  },
  "language_info": {
   "codemirror_mode": {
    "name": "ipython",
    "version": 2
   },
   "file_extension": ".py",
   "mimetype": "text/x-python",
   "name": "python",
   "nbconvert_exporter": "python",
   "pygments_lexer": "ipython2",
   "version": "2.7.12"
  }
 },
 "nbformat": 4,
 "nbformat_minor": 0
}
